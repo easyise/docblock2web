{
 "cells": [
  {
   "cell_type": "code",
   "execution_count": 13,
   "metadata": {
    "collapsed": false,
    "deletable": true,
    "editable": true
   },
   "outputs": [
    {
     "name": "stdout",
     "output_type": "stream",
     "text": [
      "The autoreload extension is already loaded. To reload it, use:\n",
      "  %reload_ext autoreload\n"
     ]
    }
   ],
   "source": [
    "from docblock2web import docblock2web\n",
    "%load_ext autoreload\n",
    "%autoreload 2"
   ]
  },
  {
   "cell_type": "code",
   "execution_count": 127,
   "metadata": {
    "collapsed": false,
    "deletable": true,
    "editable": true
   },
   "outputs": [
    {
     "name": "stdout",
     "output_type": "stream",
     "text": [
      "The sample PHP file with docs inside\n",
      "===\n",
      "\n",
      "This is sample file description\n",
      "\n",
      "__Version__: 1.0beta  \n",
      "__Copyright__: Ilya Eliseev  \n",
      "__Uses__: Some module  \n",
      "__License__: The License  \n",
      "\n",
      "\n",
      "\n",
      "\n",
      "## <a name=\"sampleclass\"></a>class SampleClass\n",
      "\n",
      "The sample class description\n",
      "\n",
      "Another line of sample class description\n",
      "\n",
      "### <a name=\"sampleclass-property\"></a>public variable $property\n",
      "\n",
      "Sample property\n",
      "\n",
      "\n",
      "\n",
      "### <a name=\"sampleclass-__construct\"></a>public function __construct($param1, $param2, $param3)\n",
      "\n",
      "The constructor\n",
      "\n",
      "__Parameters__: \n",
      "* __$param1__ (variant) - sample parameter\n",
      "* __$param2__ (bool) - another parameter\n",
      "* __$param3__ (array) - array parameter\n",
      "\t\t- ['member1'] - first member description\n",
      "\t\t- int member2 - second member description\n",
      "\n",
      "\n",
      "### <a name=\"sampleclass-method\"></a>public function method($param1, $param2, $param3)\n",
      "\n",
      "A method\n",
      "\n",
      "\n",
      "\n",
      "\n",
      "\n",
      "\n",
      "\n"
     ]
    }
   ],
   "source": [
    "#filePath = '../../yusen/htdocs/common/eiseXLSX/eiseXLSX.php'\n",
    "filePath = 'sample.php' \n",
    "\n",
    "file = open(filePath)\n",
    "\n",
    "dbw = docblock2web(file)\n",
    "\n",
    "md =  dbw.md()\n",
    "\n",
    "print( md )"
   ]
  },
  {
   "cell_type": "code",
   "execution_count": null,
   "metadata": {
    "collapsed": true
   },
   "outputs": [],
   "source": []
  }
 ],
 "metadata": {
  "kernelspec": {
   "display_name": "Python 3",
   "language": "python",
   "name": "python3"
  },
  "language_info": {
   "codemirror_mode": {
    "name": "ipython",
    "version": 3
   },
   "file_extension": ".py",
   "mimetype": "text/x-python",
   "name": "python",
   "nbconvert_exporter": "python",
   "pygments_lexer": "ipython3",
   "version": "3.5.3"
  }
 },
 "nbformat": 4,
 "nbformat_minor": 2
}
